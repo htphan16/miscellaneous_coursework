{
 "cells": [
  {
   "cell_type": "markdown",
   "metadata": {
    "collapsed": true
   },
   "source": [
   ]
  },
  {
   "cell_type": "code",
   "execution_count": 1,
   "metadata": {
    "collapsed": false
   },
   "outputs": [
    {
     "name": "stdout",
     "output_type": "stream",
     "text": [
      "0.21579980509730068\n"
     ]
    }
   ],
   "source": [
    "import pandas as pd\n",
    "from sklearn.svm import SVR\n",
    "\n",
    "\n",
    "house_df = pd.read_csv('kc_house_data.csv')\n",
    "\n",
    "X = house_df[['sqft_living15', 'sqft_lot15', 'grade', 'condition', 'view', 'sqft_basement', 'sqft_above', 'sqft_living', 'sqft_lot', 'floors', 'bedrooms', 'bathrooms']]\n",
    "y = house_df['price']\n",
    "\n",
    "from sklearn.model_selection import train_test_split\n",
    "X_train, X_test, y_train, y_test = train_test_split(X, y, test_size=0.20)\n",
    "svr = SVR(kernel = 'rbf', gamma='scale', C=1000000, epsilon=0.00002)\n",
    "svr_fit = svr.fit(X_train, y_train)\n",
    "\n",
    "svr_score = svr_fit.score(X_test, y_test)\n",
    "print(svr_score)"
   ]
  },
  {
   "cell_type": "code",
   "execution_count": 2,
   "metadata": {
    "collapsed": false
   },
   "outputs": [
    {
     "name": "stdout",
     "output_type": "stream",
     "text": [
      "0.5564713308704033\n",
      "[0.49152093 0.57708534 0.414046   0.55608599 0.39087156]\n"
     ]
    }
   ],
   "source": [
    "from sklearn.tree import DecisionTreeRegressor\n",
    "from sklearn.model_selection import cross_val_score\n",
    "\n",
    "dtr = DecisionTreeRegressor(max_depth=5)\n",
    "dtr_fit = dtr.fit(X_train, y_train)\n",
    "\n",
    "dtr_score = dtr_fit.score(X_test, y_test)\n",
    "cvs = cross_val_score(dtr_fit, X_test, y_test, cv = 5)\n",
    "print(dtr_score)\n",
    "print(cvs)"
   ]
  },
  {
   "cell_type": "code",
   "execution_count": 0,
   "metadata": {
    "collapsed": false
   },
   "outputs": [
   ],
   "source": [
   ]
  },
  {
   "cell_type": "code",
   "execution_count": 0,
   "metadata": {
    "collapsed": false
   },
   "outputs": [
   ],
   "source": [
   ]
  }
 ],
 "metadata": {
  "kernelspec": {
   "display_name": "SageMath (stable)",
   "language": "sagemath",
   "metadata": {
    "cocalc": {
     "description": "Open-source mathematical software system",
     "priority": 10,
     "url": "https://www.sagemath.org/"
    }
   },
   "name": "sagemath"
  },
  "language_info": {
   "codemirror_mode": {
    "name": "ipython",
    "version": 2
   },
   "file_extension": ".py",
   "mimetype": "text/x-python",
   "name": "python",
   "nbconvert_exporter": "python",
   "pygments_lexer": "ipython2",
   "version": "2.7.15"
  }
 },
 "nbformat": 4,
 "nbformat_minor": 0
}